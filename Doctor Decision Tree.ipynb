{
 "cells": [
  {
   "cell_type": "code",
   "execution_count": 2,
   "metadata": {},
   "outputs": [],
   "source": [
    "import pandas\n",
    "from sklearn import tree\n",
    "import pydotplus\n",
    "from sklearn.tree import DecisionTreeClassifier\n",
    "import matplotlib.pyplot as plt\n",
    "import matplotlib.image as pltimg\n",
    "from sklearn.linear_model import LinearRegression\n",
    "#%matplotlib inline\n",
    "df = pandas.read_csv(\"drug.csv\")\n",
    "df3 =  pandas.read_csv(\"DoctorData.csv\")"
   ]
  },
  {
   "cell_type": "code",
   "execution_count": 3,
   "metadata": {},
   "outputs": [
    {
     "data": {
      "text/html": [
       "<div>\n",
       "<style scoped>\n",
       "    .dataframe tbody tr th:only-of-type {\n",
       "        vertical-align: middle;\n",
       "    }\n",
       "\n",
       "    .dataframe tbody tr th {\n",
       "        vertical-align: top;\n",
       "    }\n",
       "\n",
       "    .dataframe thead th {\n",
       "        text-align: right;\n",
       "    }\n",
       "</style>\n",
       "<table border=\"1\" class=\"dataframe\">\n",
       "  <thead>\n",
       "    <tr style=\"text-align: right;\">\n",
       "      <th></th>\n",
       "      <th>Age</th>\n",
       "      <th>Sex</th>\n",
       "      <th>BP</th>\n",
       "      <th>Cholesterol</th>\n",
       "      <th>Na_to_K</th>\n",
       "      <th>Drug</th>\n",
       "    </tr>\n",
       "  </thead>\n",
       "  <tbody>\n",
       "    <tr>\n",
       "      <th>100</th>\n",
       "      <td>31</td>\n",
       "      <td>M</td>\n",
       "      <td>HIGH</td>\n",
       "      <td>NORMAL</td>\n",
       "      <td>11.871</td>\n",
       "      <td>drugA</td>\n",
       "    </tr>\n",
       "    <tr>\n",
       "      <th>101</th>\n",
       "      <td>45</td>\n",
       "      <td>F</td>\n",
       "      <td>HIGH</td>\n",
       "      <td>HIGH</td>\n",
       "      <td>12.854</td>\n",
       "      <td>drugA</td>\n",
       "    </tr>\n",
       "    <tr>\n",
       "      <th>102</th>\n",
       "      <td>28</td>\n",
       "      <td>F</td>\n",
       "      <td>LOW</td>\n",
       "      <td>HIGH</td>\n",
       "      <td>13.127</td>\n",
       "      <td>drugC</td>\n",
       "    </tr>\n",
       "    <tr>\n",
       "      <th>103</th>\n",
       "      <td>56</td>\n",
       "      <td>M</td>\n",
       "      <td>NORMAL</td>\n",
       "      <td>HIGH</td>\n",
       "      <td>8.966</td>\n",
       "      <td>drugX</td>\n",
       "    </tr>\n",
       "    <tr>\n",
       "      <th>104</th>\n",
       "      <td>22</td>\n",
       "      <td>M</td>\n",
       "      <td>HIGH</td>\n",
       "      <td>NORMAL</td>\n",
       "      <td>28.294</td>\n",
       "      <td>drugY</td>\n",
       "    </tr>\n",
       "    <tr>\n",
       "      <th>...</th>\n",
       "      <td>...</td>\n",
       "      <td>...</td>\n",
       "      <td>...</td>\n",
       "      <td>...</td>\n",
       "      <td>...</td>\n",
       "      <td>...</td>\n",
       "    </tr>\n",
       "    <tr>\n",
       "      <th>195</th>\n",
       "      <td>56</td>\n",
       "      <td>F</td>\n",
       "      <td>LOW</td>\n",
       "      <td>HIGH</td>\n",
       "      <td>11.567</td>\n",
       "      <td>drugC</td>\n",
       "    </tr>\n",
       "    <tr>\n",
       "      <th>196</th>\n",
       "      <td>16</td>\n",
       "      <td>M</td>\n",
       "      <td>LOW</td>\n",
       "      <td>HIGH</td>\n",
       "      <td>12.006</td>\n",
       "      <td>drugC</td>\n",
       "    </tr>\n",
       "    <tr>\n",
       "      <th>197</th>\n",
       "      <td>52</td>\n",
       "      <td>M</td>\n",
       "      <td>NORMAL</td>\n",
       "      <td>HIGH</td>\n",
       "      <td>9.894</td>\n",
       "      <td>drugX</td>\n",
       "    </tr>\n",
       "    <tr>\n",
       "      <th>198</th>\n",
       "      <td>23</td>\n",
       "      <td>M</td>\n",
       "      <td>NORMAL</td>\n",
       "      <td>NORMAL</td>\n",
       "      <td>14.020</td>\n",
       "      <td>drugX</td>\n",
       "    </tr>\n",
       "    <tr>\n",
       "      <th>199</th>\n",
       "      <td>40</td>\n",
       "      <td>F</td>\n",
       "      <td>LOW</td>\n",
       "      <td>NORMAL</td>\n",
       "      <td>11.349</td>\n",
       "      <td>drugX</td>\n",
       "    </tr>\n",
       "  </tbody>\n",
       "</table>\n",
       "<p>100 rows × 6 columns</p>\n",
       "</div>"
      ],
      "text/plain": [
       "     Age Sex      BP Cholesterol  Na_to_K   Drug\n",
       "100   31   M    HIGH      NORMAL   11.871  drugA\n",
       "101   45   F    HIGH        HIGH   12.854  drugA\n",
       "102   28   F     LOW        HIGH   13.127  drugC\n",
       "103   56   M  NORMAL        HIGH    8.966  drugX\n",
       "104   22   M    HIGH      NORMAL   28.294  drugY\n",
       "..   ...  ..     ...         ...      ...    ...\n",
       "195   56   F     LOW        HIGH   11.567  drugC\n",
       "196   16   M     LOW        HIGH   12.006  drugC\n",
       "197   52   M  NORMAL        HIGH    9.894  drugX\n",
       "198   23   M  NORMAL      NORMAL   14.020  drugX\n",
       "199   40   F     LOW      NORMAL   11.349  drugX\n",
       "\n",
       "[100 rows x 6 columns]"
      ]
     },
     "execution_count": 3,
     "metadata": {},
     "output_type": "execute_result"
    }
   ],
   "source": [
    "df2 = df.tail(100)\n",
    "df2"
   ]
  },
  {
   "cell_type": "code",
   "execution_count": 4,
   "metadata": {},
   "outputs": [
    {
     "name": "stdout",
     "output_type": "stream",
     "text": [
      "<class 'pandas.core.frame.DataFrame'>\n",
      "RangeIndex: 100 entries, 100 to 199\n",
      "Data columns (total 6 columns):\n",
      " #   Column       Non-Null Count  Dtype  \n",
      "---  ------       --------------  -----  \n",
      " 0   Age          100 non-null    int64  \n",
      " 1   Sex          100 non-null    object \n",
      " 2   BP           100 non-null    object \n",
      " 3   Cholesterol  100 non-null    object \n",
      " 4   Na_to_K      100 non-null    float64\n",
      " 5   Drug         100 non-null    object \n",
      "dtypes: float64(1), int64(1), object(4)\n",
      "memory usage: 4.8+ KB\n"
     ]
    }
   ],
   "source": [
    "df2.info()"
   ]
  },
  {
   "cell_type": "code",
   "execution_count": 5,
   "metadata": {},
   "outputs": [
    {
     "data": {
      "text/html": [
       "<div>\n",
       "<style scoped>\n",
       "    .dataframe tbody tr th:only-of-type {\n",
       "        vertical-align: middle;\n",
       "    }\n",
       "\n",
       "    .dataframe tbody tr th {\n",
       "        vertical-align: top;\n",
       "    }\n",
       "\n",
       "    .dataframe thead th {\n",
       "        text-align: right;\n",
       "    }\n",
       "</style>\n",
       "<table border=\"1\" class=\"dataframe\">\n",
       "  <thead>\n",
       "    <tr style=\"text-align: right;\">\n",
       "      <th></th>\n",
       "      <th>Age</th>\n",
       "      <th>Sex</th>\n",
       "      <th>BP</th>\n",
       "      <th>Cholesterol</th>\n",
       "      <th>Na_to_K</th>\n",
       "    </tr>\n",
       "  </thead>\n",
       "  <tbody>\n",
       "    <tr>\n",
       "      <th>100</th>\n",
       "      <td>31</td>\n",
       "      <td>M</td>\n",
       "      <td>HIGH</td>\n",
       "      <td>NORMAL</td>\n",
       "      <td>11.871</td>\n",
       "    </tr>\n",
       "    <tr>\n",
       "      <th>101</th>\n",
       "      <td>45</td>\n",
       "      <td>F</td>\n",
       "      <td>HIGH</td>\n",
       "      <td>HIGH</td>\n",
       "      <td>12.854</td>\n",
       "    </tr>\n",
       "    <tr>\n",
       "      <th>102</th>\n",
       "      <td>28</td>\n",
       "      <td>F</td>\n",
       "      <td>LOW</td>\n",
       "      <td>HIGH</td>\n",
       "      <td>13.127</td>\n",
       "    </tr>\n",
       "    <tr>\n",
       "      <th>103</th>\n",
       "      <td>56</td>\n",
       "      <td>M</td>\n",
       "      <td>NORMAL</td>\n",
       "      <td>HIGH</td>\n",
       "      <td>8.966</td>\n",
       "    </tr>\n",
       "    <tr>\n",
       "      <th>104</th>\n",
       "      <td>22</td>\n",
       "      <td>M</td>\n",
       "      <td>HIGH</td>\n",
       "      <td>NORMAL</td>\n",
       "      <td>28.294</td>\n",
       "    </tr>\n",
       "    <tr>\n",
       "      <th>...</th>\n",
       "      <td>...</td>\n",
       "      <td>...</td>\n",
       "      <td>...</td>\n",
       "      <td>...</td>\n",
       "      <td>...</td>\n",
       "    </tr>\n",
       "    <tr>\n",
       "      <th>195</th>\n",
       "      <td>56</td>\n",
       "      <td>F</td>\n",
       "      <td>LOW</td>\n",
       "      <td>HIGH</td>\n",
       "      <td>11.567</td>\n",
       "    </tr>\n",
       "    <tr>\n",
       "      <th>196</th>\n",
       "      <td>16</td>\n",
       "      <td>M</td>\n",
       "      <td>LOW</td>\n",
       "      <td>HIGH</td>\n",
       "      <td>12.006</td>\n",
       "    </tr>\n",
       "    <tr>\n",
       "      <th>197</th>\n",
       "      <td>52</td>\n",
       "      <td>M</td>\n",
       "      <td>NORMAL</td>\n",
       "      <td>HIGH</td>\n",
       "      <td>9.894</td>\n",
       "    </tr>\n",
       "    <tr>\n",
       "      <th>198</th>\n",
       "      <td>23</td>\n",
       "      <td>M</td>\n",
       "      <td>NORMAL</td>\n",
       "      <td>NORMAL</td>\n",
       "      <td>14.020</td>\n",
       "    </tr>\n",
       "    <tr>\n",
       "      <th>199</th>\n",
       "      <td>40</td>\n",
       "      <td>F</td>\n",
       "      <td>LOW</td>\n",
       "      <td>NORMAL</td>\n",
       "      <td>11.349</td>\n",
       "    </tr>\n",
       "  </tbody>\n",
       "</table>\n",
       "<p>100 rows × 5 columns</p>\n",
       "</div>"
      ],
      "text/plain": [
       "     Age Sex      BP Cholesterol  Na_to_K\n",
       "100   31   M    HIGH      NORMAL   11.871\n",
       "101   45   F    HIGH        HIGH   12.854\n",
       "102   28   F     LOW        HIGH   13.127\n",
       "103   56   M  NORMAL        HIGH    8.966\n",
       "104   22   M    HIGH      NORMAL   28.294\n",
       "..   ...  ..     ...         ...      ...\n",
       "195   56   F     LOW        HIGH   11.567\n",
       "196   16   M     LOW        HIGH   12.006\n",
       "197   52   M  NORMAL        HIGH    9.894\n",
       "198   23   M  NORMAL      NORMAL   14.020\n",
       "199   40   F     LOW      NORMAL   11.349\n",
       "\n",
       "[100 rows x 5 columns]"
      ]
     },
     "execution_count": 5,
     "metadata": {},
     "output_type": "execute_result"
    }
   ],
   "source": [
    "#Select the columns we wish to use and assign them to a Pandas Dataframe\n",
    "\n",
    "#Set features we want to use to a DF\n",
    "features1 = ['Age','Sex', 'BP', 'Cholesterol', 'Na_to_K']\n",
    "\n",
    "# we can also do the following\n",
    "# features = shows.columns[1:] if we have lots of feature columns\n",
    "\n",
    "\n",
    "# Assign this to our target DF feateres\n",
    "X = df2[features1]\n",
    "\n",
    "#Display DF to check all is as expected.\n",
    "X"
   ]
  },
  {
   "cell_type": "code",
   "execution_count": 6,
   "metadata": {},
   "outputs": [
    {
     "data": {
      "text/plain": [
       "100    drugA\n",
       "101    drugA\n",
       "102    drugC\n",
       "103    drugX\n",
       "104    drugY\n",
       "       ...  \n",
       "195    drugC\n",
       "196    drugC\n",
       "197    drugX\n",
       "198    drugX\n",
       "199    drugX\n",
       "Name: Drug, Length: 100, dtype: object"
      ]
     },
     "execution_count": 6,
     "metadata": {},
     "output_type": "execute_result"
    }
   ],
   "source": [
    "y = df2['Drug']\n",
    "y"
   ]
  },
  {
   "cell_type": "code",
   "execution_count": 7,
   "metadata": {},
   "outputs": [
    {
     "name": "stdout",
     "output_type": "stream",
     "text": [
      "     Age  Sex  BP  Cholesterol  Na_to_K  Drug\n",
      "100   31    1   0            1   11.871     0\n",
      "101   45    0   0            0   12.854     0\n",
      "102   28    0   1            0   13.127     2\n",
      "103   56    1   2            0    8.966     3\n",
      "104   22    1   0            1   28.294     4\n",
      "..   ...  ...  ..          ...      ...   ...\n",
      "195   56    0   1            0   11.567     2\n",
      "196   16    1   1            0   12.006     2\n",
      "197   52    1   2            0    9.894     3\n",
      "198   23    1   2            1   14.020     3\n",
      "199   40    0   1            1   11.349     3\n",
      "\n",
      "[100 rows x 6 columns]\n"
     ]
    },
    {
     "name": "stderr",
     "output_type": "stream",
     "text": [
      "C:\\Users\\aiden\\anaconda3\\lib\\site-packages\\ipykernel_launcher.py:2: SettingWithCopyWarning: \n",
      "A value is trying to be set on a copy of a slice from a DataFrame.\n",
      "Try using .loc[row_indexer,col_indexer] = value instead\n",
      "\n",
      "See the caveats in the documentation: https://pandas.pydata.org/pandas-docs/stable/user_guide/indexing.html#returning-a-view-versus-a-copy\n",
      "  \n",
      "C:\\Users\\aiden\\anaconda3\\lib\\site-packages\\ipykernel_launcher.py:4: SettingWithCopyWarning: \n",
      "A value is trying to be set on a copy of a slice from a DataFrame.\n",
      "Try using .loc[row_indexer,col_indexer] = value instead\n",
      "\n",
      "See the caveats in the documentation: https://pandas.pydata.org/pandas-docs/stable/user_guide/indexing.html#returning-a-view-versus-a-copy\n",
      "  after removing the cwd from sys.path.\n",
      "C:\\Users\\aiden\\anaconda3\\lib\\site-packages\\ipykernel_launcher.py:6: SettingWithCopyWarning: \n",
      "A value is trying to be set on a copy of a slice from a DataFrame.\n",
      "Try using .loc[row_indexer,col_indexer] = value instead\n",
      "\n",
      "See the caveats in the documentation: https://pandas.pydata.org/pandas-docs/stable/user_guide/indexing.html#returning-a-view-versus-a-copy\n",
      "  \n",
      "C:\\Users\\aiden\\anaconda3\\lib\\site-packages\\ipykernel_launcher.py:8: SettingWithCopyWarning: \n",
      "A value is trying to be set on a copy of a slice from a DataFrame.\n",
      "Try using .loc[row_indexer,col_indexer] = value instead\n",
      "\n",
      "See the caveats in the documentation: https://pandas.pydata.org/pandas-docs/stable/user_guide/indexing.html#returning-a-view-versus-a-copy\n",
      "  \n"
     ]
    }
   ],
   "source": [
    "d = {'F': 0, 'M': 1,}\n",
    "df2['Sex'] = df2['Sex'].map(d)\n",
    "BP = {'HIGH': 0, 'LOW': 1, 'NORMAL':2}\n",
    "df2['BP'] = df2['BP'].map(BP)\n",
    "Cholesterol = {'HIGH': 0, 'NORMAL': 1,}\n",
    "df2['Cholesterol'] = df2['Cholesterol'].map(Cholesterol)\n",
    "Drug = {'drugY': 4, 'drugX': 3, 'drugC' : 2, 'drugA' : 0, 'drugB' : 1}\n",
    "df2['Drug'] = df2['Drug'].map(Drug)\n",
    "\n",
    "print(df2)"
   ]
  },
  {
   "cell_type": "code",
   "execution_count": 8,
   "metadata": {},
   "outputs": [
    {
     "name": "stdout",
     "output_type": "stream",
     "text": [
      "     Age  Sex  BP  Na_to_K  Cholesterol\n",
      "100   31    1   0   11.871            1\n",
      "101   45    0   0   12.854            0\n",
      "102   28    0   1   13.127            0\n",
      "103   56    1   2    8.966            0\n",
      "104   22    1   0   28.294            1\n",
      "..   ...  ...  ..      ...          ...\n",
      "195   56    0   1   11.567            0\n",
      "196   16    1   1   12.006            0\n",
      "197   52    1   2    9.894            0\n",
      "198   23    1   2   14.020            1\n",
      "199   40    0   1   11.349            1\n",
      "\n",
      "[100 rows x 5 columns]\n",
      "100    0\n",
      "101    0\n",
      "102    2\n",
      "103    3\n",
      "104    4\n",
      "      ..\n",
      "195    2\n",
      "196    2\n",
      "197    3\n",
      "198    3\n",
      "199    3\n",
      "Name: Drug, Length: 100, dtype: int64\n"
     ]
    }
   ],
   "source": [
    "features = ['Age', 'Sex', 'BP', 'Na_to_K','Cholesterol' ]\n",
    "\n",
    "X = df2[features]\n",
    "y = df2['Drug']\n",
    "xnp = X.to_numpy()\n",
    "print(X)\n",
    "print(y)"
   ]
  },
  {
   "cell_type": "code",
   "execution_count": 9,
   "metadata": {},
   "outputs": [
    {
     "data": {
      "image/png": "[encoded data removed]",
      "text/plain": [
       "<Figure size 432x288 with 1 Axes>"
      ]
     },
     "metadata": {
      "needs_background": "light"
     },
     "output_type": "display_data"
    }
   ],
   "source": [
    "dtree = DecisionTreeClassifier(criterion = 'entropy')\n",
    "dtree = dtree.fit(X, y)\n",
    "data = tree.export_graphviz(dtree, out_file=None, feature_names=features)\n",
    "graph = pydotplus.graph_from_dot_data(data)\n",
    "graph.write_png('doctordecisiontree.png')\n",
    "\n",
    "img=pltimg.imread('doctordecisiontree.png')\n",
    "imgplot = plt.imshow(img)\n",
    "plt.show()"
   ]
  },
  {
   "cell_type": "code",
   "execution_count": 11,
   "metadata": {},
   "outputs": [
    {
     "name": "stdout",
     "output_type": "stream",
     "text": [
      "[3]\n",
      "You have been assigned Drug X\n"
     ]
    }
   ],
   "source": [
    "print(dtree.predict([[23, 1, 2, 1, 25.355]]))\n",
    "myData = dtree.predict([[23, 1, 2, 1, 25.355]])\n",
    "# Dislay answer\n",
    "myData\n",
    "\n",
    "theDecision = myData[0]\n",
    "\n",
    "if theDecision == 0:\n",
    "    print(\"You have been assigned Drug A\")\n",
    "elif theDecision == 1:\n",
    "    print(\"You have been assigned Drug B\")\n",
    "elif theDecision == 2:\n",
    "    print(\"You have been assigned Drug C\")\n",
    "elif theDecision == 3:\n",
    "    print(\"You have been assigned Drug X\")\n",
    "elif theDecision == 4:\n",
    "    print(\"You have been assigned Drug Y\")\n"
   ]
  },
  {
   "cell_type": "markdown",
   "metadata": {},
   "source": [
    "My model compared to Will's model is not very different. We got similar results when putting in the data to test the model but because our trees were slightly different, our prediction models got different results for some of the data. "
   ]
  },
  {
   "cell_type": "code",
   "execution_count": 12,
   "metadata": {},
   "outputs": [
    {
     "name": "stdout",
     "output_type": "stream",
     "text": [
      "Enter the age of the patient: 2\n",
      "Enter the sex of the patient with a number (Female = 1, Male = 0): 4\n",
      "Enter the BP of the patient with a number (High = 2, Normal = 1, Low = 0): 5\n",
      "Enter the cholesterol of the patient with a number (High = 1, Normal = 0): 2\n",
      "Enter the sodium/potassium: 1\n",
      "[3]\n",
      "You have been assigned Drug X\n"
     ]
    }
   ],
   "source": [
    "age = int(input(\"Enter the age of the patient: \"))\n",
    "sex = int(input(\"Enter the sex of the patient with a number (Female = 1, Male = 0): \"))\n",
    "BP = int(input(\"Enter the BP of the patient with a number (High = 2, Normal = 1, Low = 0): \"))\n",
    "Chol = int(input(\"Enter the cholesterol of the patient with a number (High = 1, Normal = 0): \"))\n",
    "Na_K = float(input(\"Enter the sodium/potassium: \"))\n",
    "\n",
    "print(dtree.predict([[age, sex, BP, Chol, Na_K]]))\n",
    "myData1 = dtree.predict([[age, sex, BP, Chol, Na_K]])\n",
    "# Dislay answer\n",
    "myData1\n",
    "\n",
    "theDecision = myData1[0]\n",
    "\n",
    "if theDecision == 0:\n",
    "    print(\"You have been assigned Drug A\")\n",
    "elif theDecision == 1:\n",
    "    print(\"You have been assigned Drug B\")\n",
    "elif theDecision == 2:\n",
    "    print(\"You have been assigned Drug C\")\n",
    "elif theDecision == 3:\n",
    "    print(\"You have been assigned Drug X\")\n",
    "elif theDecision == 4:\n",
    "    print(\"You have been assigned Drug Y\")"
   ]
  },
  {
   "cell_type": "markdown",
   "metadata": {},
   "source": [
    "The data i created was tested against the data given in the assignment and found out the data is 80% correct. the reason why is most likley because my data has different numbers set of the drugs and the data most likley has different data. "
   ]
  },
  {
   "cell_type": "markdown",
   "metadata": {},
   "source": [
    "The test and train was not used simply becasue it would nnot give us the infomationt that we need, it was be easier to use "
   ]
  }
 ],
 "metadata": {
  "kernelspec": {
   "display_name": "Python 3",
   "language": "python",
   "name": "python3"
  },
  "language_info": {
   "codemirror_mode": {
    "name": "ipython",
    "version": 3
   },
   "file_extension": ".py",
   "mimetype": "text/x-python",
   "name": "python",
   "nbconvert_exporter": "python",
   "pygments_lexer": "ipython3",
   "version": "3.7.6"
  }
 },
 "nbformat": 4,
 "nbformat_minor": 4
}
